{
  "nbformat": 4,
  "nbformat_minor": 0,
  "metadata": {
    "colab": {
      "provenance": [],
      "toc_visible": true,
      "include_colab_link": true
    },
    "kernelspec": {
      "name": "python3",
      "display_name": "Python 3"
    },
    "language_info": {
      "name": "python"
    }
  },
  "cells": [
    {
      "cell_type": "markdown",
      "metadata": {
        "id": "view-in-github",
        "colab_type": "text"
      },
      "source": [
        "<a href=\"https://colab.research.google.com/github/Helgaltrin/Helga-Algoritma-phyton/blob/main/P8_HelgaltrinMelani_2C1240064.ipynb\" target=\"_parent\"><img src=\"https://colab.research.google.com/assets/colab-badge.svg\" alt=\"Open In Colab\"/></a>"
      ]
    },
    {
      "cell_type": "markdown",
      "source": [
        "**FUNDAMENTAL ARRAY**"
      ],
      "metadata": {
        "id": "wfgZxt5q_TzV"
      }
    },
    {
      "cell_type": "code",
      "execution_count": 1,
      "metadata": {
        "id": "9TB1ZwTr_DYz",
        "colab": {
          "base_uri": "https://localhost:8080/"
        },
        "outputId": "e0516f7a-9cfc-4c76-8749-6a9a3109b9e5"
      },
      "outputs": [
        {
          "output_type": "execute_result",
          "data": {
            "text/plain": [
              "[10, 20, 30, 40]"
            ]
          },
          "metadata": {},
          "execution_count": 1
        }
      ],
      "source": [
        "arr = [10, 20, 30, 40]\n",
        "arr"
      ]
    },
    {
      "cell_type": "code",
      "source": [
        "list_numbers = [1, 2, 3, 4, 5]\n",
        "list_numbers"
      ],
      "metadata": {
        "id": "Qye2YU0__OFZ",
        "colab": {
          "base_uri": "https://localhost:8080/"
        },
        "outputId": "54e4db22-693e-40d4-c2b2-97988dd6a170"
      },
      "execution_count": 2,
      "outputs": [
        {
          "output_type": "execute_result",
          "data": {
            "text/plain": [
              "[1, 2, 3, 4, 5]"
            ]
          },
          "metadata": {},
          "execution_count": 2
        }
      ]
    },
    {
      "cell_type": "code",
      "source": [
        "list_numbers[0] = 100  # Mengubah elemen pertama menjadi 100\n",
        "list_numbers"
      ],
      "metadata": {
        "id": "Fl3348wK_Rjh",
        "colab": {
          "base_uri": "https://localhost:8080/"
        },
        "outputId": "8f2705ec-3184-4dc5-9fe2-7776a0bc8df1"
      },
      "execution_count": 6,
      "outputs": [
        {
          "output_type": "execute_result",
          "data": {
            "text/plain": [
              "[100, 2, 3, 4, 5]"
            ]
          },
          "metadata": {},
          "execution_count": 6
        }
      ]
    },
    {
      "cell_type": "markdown",
      "source": [
        "**MENDEKLARASIKAN ARRAY**"
      ],
      "metadata": {
        "id": "vu07k-Tj_cp9"
      }
    },
    {
      "cell_type": "code",
      "source": [
        "arr = [1, 2, 3, 4, 5]\n",
        "arr"
      ],
      "metadata": {
        "id": "Z7JTYURvCO49",
        "colab": {
          "base_uri": "https://localhost:8080/"
        },
        "outputId": "a9315303-aa4e-486f-f78d-fee4cc948aa6"
      },
      "execution_count": 7,
      "outputs": [
        {
          "output_type": "execute_result",
          "data": {
            "text/plain": [
              "[1, 2, 3, 4, 5]"
            ]
          },
          "metadata": {},
          "execution_count": 7
        }
      ]
    },
    {
      "cell_type": "code",
      "source": [
        "data = [1, 2, 3, 'hello', 5.5]  # array dengan elemen tipe berbeda\n",
        "data"
      ],
      "metadata": {
        "id": "OKBRVSaA_f6u",
        "colab": {
          "base_uri": "https://localhost:8080/"
        },
        "outputId": "366e8dca-ff56-44da-829d-18bde3c9f8db"
      },
      "execution_count": 8,
      "outputs": [
        {
          "output_type": "execute_result",
          "data": {
            "text/plain": [
              "[1, 2, 3, 'hello', 5.5]"
            ]
          },
          "metadata": {},
          "execution_count": 8
        }
      ]
    },
    {
      "cell_type": "code",
      "source": [
        "arr = [0] * 5  # Membuat array dengan 5 elemen, semua berisi 0\n",
        "arr"
      ],
      "metadata": {
        "id": "2b5ZTBRJ_isp",
        "colab": {
          "base_uri": "https://localhost:8080/"
        },
        "outputId": "cdfb3d31-a942-4188-da3f-c1cef7dbc36e"
      },
      "execution_count": 9,
      "outputs": [
        {
          "output_type": "execute_result",
          "data": {
            "text/plain": [
              "[0, 0, 0, 0, 0]"
            ]
          },
          "metadata": {},
          "execution_count": 9
        }
      ]
    },
    {
      "cell_type": "code",
      "source": [
        "arr = [10, 20, 30, 40]\n",
        "print(arr[0])  # Output: 10 (indeks pertama)\n",
        "print(arr[3])  # Output: 40 (indeks terakhir)"
      ],
      "metadata": {
        "colab": {
          "base_uri": "https://localhost:8080/"
        },
        "id": "GHWtWUHi_knC",
        "outputId": "c2252299-7ba9-4661-b307-0167012ba4d8"
      },
      "execution_count": 10,
      "outputs": [
        {
          "output_type": "stream",
          "name": "stdout",
          "text": [
            "10\n",
            "40\n"
          ]
        }
      ]
    },
    {
      "cell_type": "markdown",
      "source": [
        "**PEMROSESAN SEKUENSIAL ARRAY**"
      ],
      "metadata": {
        "id": "fQEuwUc3_mrE"
      }
    },
    {
      "cell_type": "code",
      "source": [
        "arr = [10, 20, 30, 40, 50]\n",
        "for elemen in arr:\n",
        "    print(elemen)\n"
      ],
      "metadata": {
        "colab": {
          "base_uri": "https://localhost:8080/"
        },
        "id": "7ZE8ZrrE_qmV",
        "outputId": "d2a03f0d-de7a-4c2d-aa3d-a5c46e777627"
      },
      "execution_count": 11,
      "outputs": [
        {
          "output_type": "stream",
          "name": "stdout",
          "text": [
            "10\n",
            "20\n",
            "30\n",
            "40\n",
            "50\n"
          ]
        }
      ]
    },
    {
      "cell_type": "code",
      "source": [
        "total = 0\n",
        "for elemen in arr:\n",
        "    total += elemen\n",
        "print(total)  # Output: 150\n"
      ],
      "metadata": {
        "colab": {
          "base_uri": "https://localhost:8080/"
        },
        "id": "sWK3Hdb9_tzN",
        "outputId": "54896ea8-eaad-469d-b42a-934b25fc4a1b"
      },
      "execution_count": 12,
      "outputs": [
        {
          "output_type": "stream",
          "name": "stdout",
          "text": [
            "150\n"
          ]
        }
      ]
    },
    {
      "cell_type": "code",
      "source": [
        "arr = [5, 9, 1, 12, 10, 20, 40, 50, 12, 15, 20]\n",
        "\n",
        "#Hitung dan tampilak hasil\n",
        "print(\"arr:\", arr)\n",
        "print(\"nilai terbesar:\", max(arr))\n",
        "print(\"nilai terkecil:\", min(arr))\n",
        "print(\"jumlah semua semua nilai:\", sum(arr))\n",
        "print(\"rata-rata:\", sum(arr) / len(arr))\n",
        "\n"
      ],
      "metadata": {
        "colab": {
          "base_uri": "https://localhost:8080/"
        },
        "id": "qqnL6Nt7R26y",
        "outputId": "88c9b8ed-2235-4acc-d2e1-e391583f857e"
      },
      "execution_count": 15,
      "outputs": [
        {
          "output_type": "stream",
          "name": "stdout",
          "text": [
            "arr: [5, 9, 1, 12, 10, 20, 40, 50, 12, 15, 20]\n",
            "nilai terbesar: 50\n",
            "nilai terkecil: 1\n",
            "jumlah semua semua nilai: 194\n",
            "rata-rata: 17.636363636363637\n"
          ]
        }
      ]
    }
  ]
}