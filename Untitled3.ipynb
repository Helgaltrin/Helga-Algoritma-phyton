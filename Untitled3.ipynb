{
  "nbformat": 4,
  "nbformat_minor": 0,
  "metadata": {
    "colab": {
      "provenance": [],
      "authorship_tag": "ABX9TyM76lmjQNfNJYAU37hodK+N",
      "include_colab_link": true
    },
    "kernelspec": {
      "name": "python3",
      "display_name": "Python 3"
    },
    "language_info": {
      "name": "python"
    }
  },
  "cells": [
    {
      "cell_type": "markdown",
      "metadata": {
        "id": "view-in-github",
        "colab_type": "text"
      },
      "source": [
        "<a href=\"https://colab.research.google.com/github/Helgaltrin/Helga-Algoritma-phyton/blob/main/Untitled3.ipynb\" target=\"_parent\"><img src=\"https://colab.research.google.com/assets/colab-badge.svg\" alt=\"Open In Colab\"/></a>"
      ]
    },
    {
      "cell_type": "code",
      "execution_count": null,
      "metadata": {
        "colab": {
          "base_uri": "https://localhost:8080/"
        },
        "id": "U6tLEQL3HZuT",
        "outputId": "a290b84b-9505-4bfa-8459-fe30d743eafd"
      },
      "outputs": [
        {
          "output_type": "stream",
          "name": "stdout",
          "text": [
            "Masukan Nama Anda : Helgaltrin Melani\n",
            "Halo,Helgaltrin Melani! selamat belajar python!\n"
          ]
        }
      ],
      "source": [
        "#SOAL 1\n",
        "#Meminta Pengguna Masukan nama\n",
        "nama = input(\"Masukan Nama Anda : \")\n",
        "print(\"Halo,\" + nama + \"! selamat belajar python!\")"
      ]
    },
    {
      "cell_type": "code",
      "source": [
        "#Soal 2\n",
        "#Meminta Program Menghitung luas persegi panjang\n",
        "panjang = float(input(\"masukan panjang persegi panjang: \"))\n",
        "lebar = float(input(\"masukan lebar persegi panjang: \"))\n",
        "luas = panjang * lebar\n",
        "print(\"luas persegi panjang adalah:\",luas)"
      ],
      "metadata": {
        "colab": {
          "base_uri": "https://localhost:8080/"
        },
        "id": "LofHcmnDIIC7",
        "outputId": "5796fc38-d1f4-4aa7-809b-f519386e7ee4"
      },
      "execution_count": null,
      "outputs": [
        {
          "output_type": "stream",
          "name": "stdout",
          "text": [
            "masukan panjang persegi panjang: 5\n",
            "masukan lebar persegi panjang: 3\n",
            "luas persegi panjang adalah: 15.0\n"
          ]
        }
      ]
    },
    {
      "cell_type": "code",
      "source": [
        "#SOAL 4\n",
        "#Program Menampilkan deret bilangan 1 sampai 20\n",
        "for i in range (1, 21) :\n",
        "  print(i, end = \" \")"
      ],
      "metadata": {
        "id": "rt1Ed2yEKnNj",
        "colab": {
          "base_uri": "https://localhost:8080/"
        },
        "outputId": "2f432ddd-2d74-40cf-8814-4404464cdadd"
      },
      "execution_count": 27,
      "outputs": [
        {
          "output_type": "stream",
          "name": "stdout",
          "text": [
            "1 2 3 4 5 6 7 8 9 10 11 12 13 14 15 16 17 18 19 20 "
          ]
        }
      ]
    },
    {
      "cell_type": "code",
      "source": [
        "#Soal 5\n",
        "#Program Meminta Pengguna Memasukkan dua bilangan bulat a dan b\n",
        "#Menghitung Jumlah semua bilangan antara a dan b\n",
        "a = int(input(\"masukan bilangan bulat a:\"))\n",
        "b = int(input(\"masukan bilangan bulat b:\"))\n",
        "jumlah = 0\n",
        "while a <= b :\n",
        "  jumlah += a\n",
        "  a += 1\n",
        "  print(\"jumlah semua bilangan antara a dan b adalah:\", jumlah)\n"
      ],
      "metadata": {
        "colab": {
          "base_uri": "https://localhost:8080/"
        },
        "id": "MPe7XlZfNhYa",
        "outputId": "8f193856-b262-4adf-ab15-a235bfb79164"
      },
      "execution_count": 34,
      "outputs": [
        {
          "output_type": "stream",
          "name": "stdout",
          "text": [
            "masukan bilangan bulat a:3\n",
            "masukan bilangan bulat b:7\n",
            "jumlah semua bilangan antara a dan b adalah: 3\n",
            "jumlah semua bilangan antara a dan b adalah: 7\n",
            "jumlah semua bilangan antara a dan b adalah: 12\n",
            "jumlah semua bilangan antara a dan b adalah: 18\n",
            "jumlah semua bilangan antara a dan b adalah: 25\n"
          ]
        }
      ]
    },
    {
      "cell_type": "code",
      "source": [
        "#soal 6\n",
        "#Program Meminta Pengguna Memasukan dua bilangan bulat a dan b\n",
        "#Program harus Mencetak dua bilangan genap dalam rentang tersebut\n",
        "#Termasuk a dan b\n",
        "\n",
        "a = int(input(\"masukan bilangan bulat a:\"))\n",
        "b = int(input(\"masukan bilangan bulat b:\"))\n",
        "print(\"bilangan genap dalam rentang tersebut adalah:\")\n",
        "for i in range(a, b + 1):\n",
        "  if i % 2 == 0:\n",
        "    print(i)"
      ],
      "metadata": {
        "colab": {
          "base_uri": "https://localhost:8080/"
        },
        "id": "pKXwpeA0Qd6Z",
        "outputId": "5118e730-7858-46be-daaa-fef86c275c14"
      },
      "execution_count": 35,
      "outputs": [
        {
          "output_type": "stream",
          "name": "stdout",
          "text": [
            "masukan bilangan bulat a:3\n",
            "masukan bilangan bulat b:10\n",
            "bilangan genap dalam rentang tersebut adalah:\n",
            "4\n",
            "6\n",
            "8\n",
            "10\n"
          ]
        }
      ]
    },
    {
      "cell_type": "code",
      "source": [
        "#Soal 7\n",
        "#Program Mencetak nilai dari array dalam urutan terbalik\n",
        "array = [5, 2, 8, 1]\n",
        "for i in range(len(array) - 1, -1, -1):\n",
        "  print(array[i])"
      ],
      "metadata": {
        "colab": {
          "base_uri": "https://localhost:8080/"
        },
        "id": "eErvYBi2VH-Z",
        "outputId": "b0d0f245-12ab-4039-927b-447f7daafbfc"
      },
      "execution_count": 37,
      "outputs": [
        {
          "output_type": "stream",
          "name": "stdout",
          "text": [
            "1\n",
            "8\n",
            "2\n",
            "5\n"
          ]
        }
      ]
    },
    {
      "cell_type": "code",
      "source": [
        "#Soal 8\n",
        "#Program Meminta Pengguna Memasukkan sebuah bilangan bulat\n",
        "#Program Menentukan apakah bilangan tersebut bilangan prima\n",
        "bilangan = int(input(\"masukan sebuah bilangan bulat:\"))\n",
        "if bilangan > 1:\n",
        "  for i in range(2, bilangan):\n",
        "   if (bilangan % i) == 0:\n",
        "      print(bilangan, \"bukan bilangan prima\")\n",
        "      break\n",
        "  else:\n",
        "   print(bilangan, \"adalah bilangan prima\")\n",
        "else:\n",
        "   print(bilangan, \"bukan bilangan prima\")"
      ],
      "metadata": {
        "colab": {
          "base_uri": "https://localhost:8080/"
        },
        "id": "tIeIf9VtWqAh",
        "outputId": "a6888c33-4b95-4582-9983-23bb3a1a13f6"
      },
      "execution_count": 50,
      "outputs": [
        {
          "output_type": "stream",
          "name": "stdout",
          "text": [
            "masukan sebuah bilangan bulat:13\n",
            "13 adalah bilangan prima\n"
          ]
        }
      ]
    },
    {
      "cell_type": "code",
      "source": [],
      "metadata": {
        "id": "4CtV3Et9a5CS"
      },
      "execution_count": null,
      "outputs": []
    }
  ]
}