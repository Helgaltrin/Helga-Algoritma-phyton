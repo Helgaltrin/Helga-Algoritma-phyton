{
  "nbformat": 4,
  "nbformat_minor": 0,
  "metadata": {
    "colab": {
      "provenance": [],
      "toc_visible": true,
      "authorship_tag": "ABX9TyMf8Fb4Z5C92iZfN5XqbrjF",
      "include_colab_link": true
    },
    "kernelspec": {
      "name": "python3",
      "display_name": "Python 3"
    },
    "language_info": {
      "name": "python"
    }
  },
  "cells": [
    {
      "cell_type": "markdown",
      "metadata": {
        "id": "view-in-github",
        "colab_type": "text"
      },
      "source": [
        "<a href=\"https://colab.research.google.com/github/Helgaltrin/Helga-Algoritma-phyton/blob/main/P5senin_HelgaltrinMelaniApaseray_2C1240064.ipynb\" target=\"_parent\"><img src=\"https://colab.research.google.com/assets/colab-badge.svg\" alt=\"Open In Colab\"/></a>"
      ]
    },
    {
      "cell_type": "code",
      "execution_count": null,
      "metadata": {
        "colab": {
          "base_uri": "https://localhost:8080/"
        },
        "id": "lqCbHHO80r7i",
        "outputId": "02708c25-ba71-470b-d370-289b10b7612b"
      },
      "outputs": [
        {
          "output_type": "stream",
          "name": "stdout",
          "text": [
            "Hello, World!\n"
          ]
        }
      ],
      "source": [
        "#Program HelloWorld\n",
        "#Mencetak Hello, World! Ke layar\n",
        "\n",
        "#KAMUS\n",
        "#belum diperlukan\n",
        "\n",
        "#ALGORITMA\n",
        "print(\"Hello, World!\")"
      ]
    },
    {
      "cell_type": "code",
      "source": [
        "#Program Test\n",
        "#Spesifikasi : Menghitung nilai A dan B\n",
        "\n",
        "#KAMUS\n",
        "#A : int\n",
        "#B : int\n",
        "\n",
        "#ALGORITMA\n",
        "A=int(input('masukan nilai A='))         #input\n",
        "B=int(input('masukan nilai B='))\n",
        "\n",
        "A=A+B                  #proses\n",
        "\n",
        "print(A)               #output\n",
        "print(B)"
      ],
      "metadata": {
        "id": "AQ_J6EOd2i4h"
      },
      "execution_count": null,
      "outputs": []
    },
    {
      "cell_type": "code",
      "source": [
        "#Menghitung berapa yang harus dibayar\n",
        "#KAMUS\n",
        "#int M\n",
        "#int H\n",
        "#int K\n",
        "\n",
        "#ALGORITMA\n",
        "M=int(input('masukan nilai m'))      #input\n",
        "H=int(input('masukan nilai h'))\n",
        "K=int(input('masukan nilai k'))\n",
        "\n",
        "m=10\n",
        "h=15\n",
        "k=20\n",
        "\n",
        "total_harga= (M*m) + (H*h) + (K*k)\n",
        "print(\"jumlah yang harus dibayar adalah\",total_harga,\"rupiah\")"
      ],
      "metadata": {
        "colab": {
          "base_uri": "https://localhost:8080/"
        },
        "id": "RZJtKrWU9zwd",
        "outputId": "dff4a6fb-386d-4d0f-8018-9a773093ea86"
      },
      "execution_count": null,
      "outputs": [
        {
          "output_type": "stream",
          "name": "stdout",
          "text": [
            "masukan nilai m12\n",
            "masukan nilai h13\n",
            "masukan nilai k15\n",
            "jumlah yang harus dibayar adalah 615 rupiah\n"
          ]
        }
      ]
    },
    {
      "cell_type": "markdown",
      "source": [],
      "metadata": {
        "id": "gCbUYKbgJpyS"
      }
    },
    {
      "cell_type": "code",
      "source": [
        "print(13 + 2) #Hasil Langsung dari penjualan\n",
        "apel = 7\n",
        "jeruk = 9\n",
        "buah = apel + jeruk\n",
        "print(buah) #Hasil dari Variabel"
      ],
      "metadata": {
        "colab": {
          "base_uri": "https://localhost:8080/"
        },
        "id": "mjs_yZ5mKUSp",
        "outputId": "5818a2f3-ce1a-4e7b-e1a7-c5247e761594"
      },
      "execution_count": null,
      "outputs": [
        {
          "output_type": "stream",
          "name": "stdout",
          "text": [
            "15\n",
            "16\n"
          ]
        }
      ]
    },
    {
      "cell_type": "code",
      "source": [
        "#proses memasukan data ke dalam variabel\n",
        "nama = \"John Doe\"\n",
        "#proses mencetak variabel\n",
        "print(nama)\n",
        "#nilai dan tipe data dalam variabel dapat diubah\n",
        "umur = 20 #nilai awal\n",
        "print(umur) #mencetak nilai umur\n",
        "type(umur) #mengecek tipe data umur\n",
        "umur = \"dua puluh satu\" #nilai setelah diubah\n",
        "print(umur) #mencetak nilai umur\n",
        "type(umur) #mengecek tipe data umur\n",
        "namaDepan = \"Budi\"\n",
        "namaBelakang = \"Susanto\"\n",
        "nama = namaDepan + \" \" + namaBelakang\n",
        "umur = 22\n",
        "hobi = \"Berenang\"\n",
        "print(\"Biodata\\n\", nama, \"\\n\", umur, \"\\n\", hobi)"
      ],
      "metadata": {
        "id": "JvEtQk02RMgz"
      },
      "execution_count": null,
      "outputs": []
    },
    {
      "cell_type": "code",
      "source": [
        "#contoh variabel lainya\n",
        "inivariabel = \"Halo\"\n",
        "ini_juga_variabel = \"Hai\"\n",
        "_inivariabeljuga = \"Hi\"\n",
        "inivariabel222 = \"Bye\"\n",
        "panjang = 10\n",
        "lebar = 5\n",
        "luas = panjang * lebar\n",
        "print(luas)"
      ],
      "metadata": {
        "id": "1lqi6FnGBXaT"
      },
      "execution_count": null,
      "outputs": []
    },
    {
      "cell_type": "code",
      "source": [
        "print(\"Hello, World!\") # (1)\n",
        "print(\"Ini program\", end=\"\") # (2)\n",
        "print(\" pertama saya\") # (3)\n",
        "print(\"Dengan\", \"Koma\")\n",
        "# Ini akan menghasilkan luaran \"Dengan Koma\"\n",
        "print(\"Dengan\" + \" Plus\")\n",
        "# Ini akan menghasilkan luaran \"DenganPlus\"\n",
        "# Perhatikan '+' pada print melakukan konkatenasi pada string saja.\n",
        "variabel = \" sebuah nilai\"\n",
        "print(f\"Dengan format {variabel}\")\n",
        "# Ini akan menghasilkan luaran \"Dengan format sebuah nilai\"\n",
        "# {variabel} akan diubah dengan nilai dari variabel\n",
        "bersesuaian.\n",
        "# Ini adalah sebuah komentar.\n",
        "# Semua yang ada setelah tanda pagar (#) akan diabaikan oleh interpreter.\n",
        "\"\"\"\n",
        "Selain itu, kita juga bisa membuat komentar multi-baris dengan tiga petik\n",
        "(\"\"\") \"\"\"\n"
      ],
      "metadata": {
        "id": "rB5x6rvOBzSY"
      },
      "execution_count": null,
      "outputs": []
    },
    {
      "cell_type": "code",
      "source": [
        "S = input(\"Masukkan kalimat: \") #(1)\n",
        "print(\"Anda memasuk kan kalimat: \" + S) #(2)\n",
        "N = int(input(\"Masukkan sebuah angka: \")) # (3)\n",
        "print(\"Jika angka Anda ditambah 5, hasilnya: \" + str(N + 5)) #(4)"
      ],
      "metadata": {
        "id": "oBPn8PPECHM0"
      },
      "execution_count": null,
      "outputs": []
    },
    {
      "cell_type": "code",
      "source": [
        "#tipe data Boolean\n",
        "print(True)\n",
        "#tipe data String\n",
        "print(\"Ayo belajar Python\")\n",
        "print('Belajar Python Sangat Mudah')\n",
        "#tipe data Integer\n",
        "print(20)\n",
        "#tipe data Float\n",
        "print(3.14)\n",
        "#tipe data Hexadecimal\n",
        "print(0x9a) # Perbaikan: menambahkan awalan 0x\n",
        "#tipe data Complex\n",
        "print(5j)\n",
        "#tipe data List\n",
        "print([1,2,3,4,5])\n",
        "print([\"satu\", \"dua\", \"tiga\"])\n",
        "#tipe data Tuple\n",
        "print((1,2,3,4,5))\n",
        "print((\"satu\", \"dua\", \"tiga\"))\n",
        "#tipe data Dictionary\n",
        "print({\"nama\":\"Budi\", 'umur':20})\n",
        "#tipe data Dictionary dimasukan ke dalam variabel biodata\n",
        "biodata = {\"nama\":\"Andi\", 'umur':21} #proses inisialisasi variabel biodata\n",
        "print(biodata) #proses pencetakan variabel biodata yang berisi tipe data\n",
        "Dictionary\n",
        "print(type(biodata)) #fungsi untuk mengecek jenis tipe data. akan tampil\n",
        "<class 'dict'> yang berarti dict adalah tipe data dictionary"
      ],
      "metadata": {
        "id": "KvObLSgKCR2L"
      },
      "execution_count": null,
      "outputs": []
    },
    {
      "cell_type": "code",
      "source": [],
      "metadata": {
        "id": "Ez0hipL9CcK5"
      },
      "execution_count": null,
      "outputs": []
    },
    {
      "cell_type": "code",
      "source": [
        "x = float(5)\n",
        "print(x)\n",
        "\n",
        "x = int(5.6)\n",
        "print(x)\n",
        "\n",
        "x = str(9)\n",
        "print(x)\n",
        "\n",
        "x = set([1, 2, 3])\n",
        "y = tuple({5, 6, 7})\n",
        "z = list((‘hello’))\n",
        "print(x)\n",
        "print(y)\n",
        "print(z)"
      ],
      "metadata": {
        "id": "3WVLEWRQCdNd"
      },
      "execution_count": null,
      "outputs": []
    },
    {
      "cell_type": "code",
      "source": [
        "x = 8\n",
        "y = 2\n",
        "result = x + y\n",
        "print(result)"
      ],
      "metadata": {
        "id": "1lK8dbInC4zL"
      },
      "execution_count": null,
      "outputs": []
    },
    {
      "cell_type": "code",
      "source": [
        "# Penjumlahan\n",
        "print(13 + 2)\n",
        "apel = 7\n",
        "jeruk = 9\n",
        "buah = apel + jeruk # Menjumlahkan jumlah apel dan jeruk\n",
        "print(f\"Jumlah buah: {buah}\")\n",
        "# Pengurangan\n",
        "hutang = 10000\n",
        "bayar = 5000\n",
        "sisa_hutang = hutang - bayar # Menghitung sisa hutang\n",
        "print(f\"Sisa hutang Anda adalah {sisa_hutang}\")\n",
        "# Perkalian\n",
        "panjang = 15\n",
        "lebar = 8\n",
        "luas = panjang * lebar # Menghitung luas persegi panjang\n",
        "print(f\"Luas persegi panjang: {luas}\")\n",
        "# Pembagian\n",
        "kue = 16\n",
        "anak = 4\n",
        "kue_per_anak = kue / anak # Menghitung bagian kue per anak\n",
        "print(f\"Setiap anak akan mendapatkan bagian kue sebanyak {kue_per_anak}\")\n",
        "# Sisa Bagi / Modulus\n",
        "bilangan1 = 14\n",
        "bilangan2 = 5\n",
        "hasil = bilangan1 % bilangan2 # Menghitung sisa bagi\n",
        "print(f\"Sisa bagi dari bilangan {bilangan1} dan {bilangan2} adalah\n",
        "{hasil}\")\n",
        "# Pangkat\n",
        "bilangan3 = 8\n",
        "bilangan4 = 2\n",
        "hasil_pangkat = bilangan3 ** bilangan4 # Menghitung hasil pangkat\n",
        "print(f\"Hasil pangkat: {hasil_pangkat}\")\n",
        "# Pembagian Bulat\n",
        "print(10 // 3)\n",
        "# 10 dibagi 3 adalah 3.3333. Karena dibulatkan maka akan menghasilkan\n",
        "nilai 3"
      ],
      "metadata": {
        "id": "wjoc2_J7DCMa"
      },
      "execution_count": null,
      "outputs": []
    },
    {
      "cell_type": "code",
      "source": [
        "# SAMA DENGAN\n",
        "print(1 == 1) # Hasilnya akan bernilai True karena satu sama dengan satu\n",
        "print(1 == 2) # Hasilnya akan bernilai False karena satu tidak sama dengan\n",
        "dua\n",
        "# TIDAK SAMA DENGAN\n",
        "print(2 != 2) # Hasilnya akan bernilai False karena dua seharusnya sama\n",
        "dengan dua\n",
        "print(2 != 3) # Hasilnya akan bernilai True karena dua tidak sama dengan\n",
        "tiga"
      ],
      "metadata": {
        "id": "1Zxs9SWKFd7D"
      },
      "execution_count": null,
      "outputs": []
    },
    {
      "cell_type": "code",
      "source": [
        "# LEBIH BESAR DARI\n",
        "print(5 > 3) # Hasilnya akan bernilai True karena lima lebih besar dari\n",
        "tiga\n",
        "# LEBIH KECIL DARI\n",
        "print(5 < 3) # Hasilnya akan bernilai False karena lima tidak lebih besar\n",
        "dari tiga\n",
        "# LEBIH BESAR DARI SAMA DENGAN\n",
        "print(5 >= 3) # Hasilnya akan bernilai True karena lima lebih besar dari\n",
        "sama dengan tiga\n",
        "# LEBIH KECIL DARI SAMA DENGAN\n",
        "print(5 <= 3) # Hasilnya akan bernilai False karena lima tidak lebih besar\n",
        "dari sama dengan tiga\n"
      ],
      "metadata": {
        "id": "Af5qqgZyFlpH"
      },
      "execution_count": null,
      "outputs": []
    },
    {
      "cell_type": "code",
      "source": [],
      "metadata": {
        "id": "DWFqkPIaFuEL"
      },
      "execution_count": null,
      "outputs": []
    },
    {
      "cell_type": "code",
      "source": [
        "from re import S\n",
        "#soal 1\n",
        "s = float(input(\"masukan panjang sisi persegi: \"))\n",
        "luas_persegi = s*s\n",
        "print(\"jadi luas persegi adalah\", luas_persegi)"
      ],
      "metadata": {
        "colab": {
          "base_uri": "https://localhost:8080/"
        },
        "id": "eqLw2eu0N23v",
        "outputId": "55b4a949-f503-4bc2-89df-7843351c0089"
      },
      "execution_count": null,
      "outputs": [
        {
          "output_type": "stream",
          "name": "stdout",
          "text": [
            "masukan panjang sisi persegi: 2.5\n",
            "jadi luas persegi adalah 6.25\n"
          ]
        }
      ]
    },
    {
      "cell_type": "code",
      "source": [
        "#Data Mahasiswa\n",
        "nama = input(\"Masukan Nama:\")\n",
        "nim = input(\"Masukan NIM:\")\n",
        "fakultas = input(\"Masukan Fakultas:\")\n",
        "jurusan = input(\"Masukan Jurusan:\")\n",
        "kota_asal = input(\"Masukan Kota Asal:\")\n",
        "alamat = input(\"Masukan Alamat:\")\n",
        "\n",
        "#tampilkan data yang dimasukkan\n",
        "print(\"\\nData Mahasiswa:\")\n",
        "print(f\"Nama   : {nama}\")\n",
        "print(f\"NIM    : {nim}\")\n",
        "print(f\"Fakultas : {fakultas}\")\n",
        "print(f\"Jurusan  : {jurusan}\")\n",
        "print(f\"Kota Asal : {kota_asal}\")\n",
        "print(f\"Alamat    : {alamat}\")\n",
        "\n"
      ],
      "metadata": {
        "colab": {
          "base_uri": "https://localhost:8080/"
        },
        "id": "_AQW4S0TGCKU",
        "outputId": "f31a1fa1-602a-4b79-a277-aa7879311f22"
      },
      "execution_count": 1,
      "outputs": [
        {
          "output_type": "stream",
          "name": "stdout",
          "text": [
            "Masukan Nama:Helgaltrin Melani Apaseray\n",
            "Masukan NIM:2C1240064\n",
            "Masukan Fakultas:SAINS DAN TEKNOLOGI\n",
            "Masukan Jurusan:AGRIBISNIS\n",
            "Masukan Kota Asal:PAPUA JAYAPURA\n",
            "Masukan Alamat:SENTANI, BTN PURWODADI\n",
            "\n",
            "Data Mahasiswa:\n",
            "Nama   : Helgaltrin Melani Apaseray\n",
            "NIM    : 2C1240064\n",
            "Fakultas : SAINS DAN TEKNOLOGI\n",
            "Jurusan  : AGRIBISNIS\n",
            "Kota Asal : PAPUA JAYAPURA\n",
            "Alamat    : SENTANI, BTN PURWODADI\n"
          ]
        }
      ]
    }
  ]
}