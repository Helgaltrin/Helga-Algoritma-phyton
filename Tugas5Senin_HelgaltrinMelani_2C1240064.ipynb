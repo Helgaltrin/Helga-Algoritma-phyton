{
  "nbformat": 4,
  "nbformat_minor": 0,
  "metadata": {
    "colab": {
      "provenance": [],
      "toc_visible": true,
      "authorship_tag": "ABX9TyPY1gpLKBHSihoIoriGUVoJ",
      "include_colab_link": true
    },
    "kernelspec": {
      "name": "python3",
      "display_name": "Python 3"
    },
    "language_info": {
      "name": "python"
    }
  },
  "cells": [
    {
      "cell_type": "markdown",
      "metadata": {
        "id": "view-in-github",
        "colab_type": "text"
      },
      "source": [
        "<a href=\"https://colab.research.google.com/github/Helgaltrin/Helga-Algoritma-phyton/blob/main/Tugas5Senin_HelgaltrinMelani_2C1240064.ipynb\" target=\"_parent\"><img src=\"https://colab.research.google.com/assets/colab-badge.svg\" alt=\"Open In Colab\"/></a>"
      ]
    },
    {
      "cell_type": "code",
      "source": [
        "#Inisialisasi array S dan nilai D\n",
        "S = [8, 2, -2, 20, 0, 24]\n",
        "D = 2\n",
        "\n",
        "#Kalikan setiap elemen S dengan D\n",
        "for i in range(len(S)):\n",
        "  S[i] = S[i] * D\n",
        "\n",
        "#Cetak hasil\n",
        "print(S)"
      ],
      "metadata": {
        "colab": {
          "base_uri": "https://localhost:8080/"
        },
        "id": "d-WxE7WhLUwz",
        "outputId": "b912fec4-2646-40b4-c3fc-119e837a2a13"
      },
      "execution_count": 10,
      "outputs": [
        {
          "output_type": "stream",
          "name": "stdout",
          "text": [
            "[16, 4, -4, 40, 0, 48]\n"
          ]
        }
      ]
    },
    {
      "cell_type": "code",
      "source": [
        "S = [4, 1, -1, 10, 0, 12]\n",
        "D = 2\n",
        "\n",
        "#Kalikan setap elemen S dengan D\n",
        "for i in range(len(S)):\n",
        "  S[i] = S[i] * D\n",
        "\n",
        "#Cetak hasil\n",
        "print(S)"
      ],
      "metadata": {
        "colab": {
          "base_uri": "https://localhost:8080/"
        },
        "id": "Dmi1nxtgM32C",
        "outputId": "b956a107-3746-49bc-fed3-6e55afd0f095"
      },
      "execution_count": 11,
      "outputs": [
        {
          "output_type": "stream",
          "name": "stdout",
          "text": [
            "[8, 2, -2, 20, 0, 24]\n"
          ]
        }
      ]
    },
    {
      "cell_type": "code",
      "source": [
        "angka = [9, 12, 30, -1, 0, 4, -1, 3, 30, 14]\n",
        "nilai_terbesar = max(angka)\n",
        "print(\"Nilai terbesar adalah:\", nilai_terbesar)\n",
        "nilai_terkecil = min(angka)\n",
        "print(\"Nilai terkecil adalah:\", nilai_terkecil)\n",
        "\n",
        "angka = [1, 3, 5, 8, -12, 90, 3, 5]\n",
        "nilai_terbesar = max(angka)\n",
        "print(\"Nilai terbesar adalah:\", nilai_terbesar)\n",
        "nilai_terkecil = min(angka)\n",
        "print(\"Nilai terkecil adalah:\", nilai_terkecil)"
      ],
      "metadata": {
        "colab": {
          "base_uri": "https://localhost:8080/"
        },
        "id": "LE-z8yt6OJcb",
        "outputId": "5d674469-150c-4c82-fa5a-07656f06bbfd"
      },
      "execution_count": 13,
      "outputs": [
        {
          "output_type": "stream",
          "name": "stdout",
          "text": [
            "Nilai terbesar adalah: 30\n",
            "Nilai terkecil adalah: -1\n",
            "Nilai terbesar adalah: 90\n",
            "Nilai terkecil adalah: -12\n"
          ]
        }
      ]
    }
  ]
}