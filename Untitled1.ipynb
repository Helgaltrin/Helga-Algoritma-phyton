{
  "nbformat": 4,
  "nbformat_minor": 0,
  "metadata": {
    "colab": {
      "provenance": [],
      "toc_visible": true,
      "authorship_tag": "ABX9TyNB4Ve+OWGX3/cKFU1ckVzM",
      "include_colab_link": true
    },
    "kernelspec": {
      "name": "python3",
      "display_name": "Python 3"
    },
    "language_info": {
      "name": "python"
    }
  },
  "cells": [
    {
      "cell_type": "markdown",
      "metadata": {
        "id": "view-in-github",
        "colab_type": "text"
      },
      "source": [
        "<a href=\"https://colab.research.google.com/github/Helgaltrin/Helga-Algoritma-phyton/blob/main/Untitled1.ipynb\" target=\"_parent\"><img src=\"https://colab.research.google.com/assets/colab-badge.svg\" alt=\"Open In Colab\"/></a>"
      ]
    },
    {
      "cell_type": "code",
      "source": [
        "#Kondisi if adalah kondisi yang akan dieksekusi oleh program jika bernilai benar atau TRUE\n",
        "\n",
        "nilai = 9\n",
        "\n",
        "#jika kondisi benar/TRUE maka program akan mengeksekusi perintah dibawahnya\n",
        "if(nilai > 7):\n",
        "    print(\"Sembilan Lebih Besar Dari Angka Tujuh\") # Kondisi Benar, Dieksekusi\n",
        "\n",
        "#jika kondisi salah/FALSE maka program tidak akan mengeksekusi perintah dibawahnya\n",
        "if(nilai > 10):\n",
        "    print(\"Sembilan Lebih Besar Dari Angka Sepuluh\") # Kondisi Salah, Maka tidak tereksekusi"
      ],
      "metadata": {
        "colab": {
          "base_uri": "https://localhost:8080/"
        },
        "id": "ARVemBg_5fqs",
        "outputId": "ee923053-3ffb-4f0a-ac64-94f52dc45faf"
      },
      "execution_count": 7,
      "outputs": [
        {
          "output_type": "stream",
          "name": "stdout",
          "text": [
            "Sembilan Lebih Besar Dari Angka Tujuh\n"
          ]
        }
      ]
    },
    {
      "cell_type": "code",
      "source": [
        "grade = float(input(\"Masukkan Nilai Anda: \"))\n",
        "\n",
        "if grade == 100:\n",
        "   print(\"perfect\")\n",
        "\n",
        "if grade == 90:\n",
        "   print(\"ok\")\n",
        "   print(\"keep working hard!\")"
      ],
      "metadata": {
        "colab": {
          "base_uri": "https://localhost:8080/"
        },
        "id": "VAhInwB67BNt",
        "outputId": "45610446-4898-4b1a-d539-689d7fef6fef"
      },
      "execution_count": 11,
      "outputs": [
        {
          "output_type": "stream",
          "name": "stdout",
          "text": [
            "Masukkan Nilai Anda: 100\n",
            "perfect\n"
          ]
        }
      ]
    },
    {
      "cell_type": "code",
      "source": [
        "grade = float(input(\"Masukkan Nilai Anda: \"))\n",
        "\n",
        "if grade == 100:\n",
        "   print(\"perfect\")\n",
        "\n",
        "if grade == 90:\n",
        "   print(\"ok\")\n",
        "   print(\"keep working hard!\")"
      ],
      "metadata": {
        "colab": {
          "base_uri": "https://localhost:8080/"
        },
        "id": "OfEXRYaf7ucc",
        "outputId": "77b6188b-a966-4ae9-9cea-468d11b28502"
      },
      "execution_count": 12,
      "outputs": [
        {
          "output_type": "stream",
          "name": "stdout",
          "text": [
            "Masukkan Nilai Anda: 90\n",
            "ok\n",
            "keep working hard!\n"
          ]
        }
      ]
    },
    {
      "cell_type": "code",
      "source": [
        "# Kondisi if else adalah jika kondisi bernilai TRUE maka akan dieksekusi pada if,\n",
        "# tetapi jika bernilai FALSE maka akan dieksekusi kode pada else\n",
        "\n",
        "nilai = 8\n",
        "# Jika pernyataan pada if bernilai TRUE maka if akan dieksekusi,\n",
        "# tetapi jika FALSE kode pada else yang akan dieksekusi.\n",
        "if(nilai > 7):\n",
        "   print(\"Selamat Anda Lulus\")\n",
        "else:\n",
        "   print(\"Maaf Anda Tidak Lulus\")"
      ],
      "metadata": {
        "colab": {
          "base_uri": "https://localhost:8080/"
        },
        "id": "kbZ2IrJG8Gct",
        "outputId": "12f8f8d0-56b2-48a2-9ab5-aa20758ff55f"
      },
      "execution_count": 14,
      "outputs": [
        {
          "output_type": "stream",
          "name": "stdout",
          "text": [
            "Selamat Anda Lulus\n"
          ]
        }
      ]
    },
    {
      "cell_type": "code",
      "source": [
        "str_input = input('Enter your grade: ')\n",
        "grade = int(str_input)\n",
        "\n",
        "if grade == 100:\n",
        "   print(\"perfect\")\n",
        "else:\n",
        "   print(\"keep it up\")"
      ],
      "metadata": {
        "colab": {
          "base_uri": "https://localhost:8080/"
        },
        "id": "tBa3nLD_8ny8",
        "outputId": "3eac6f25-a210-47ad-80d1-466c2758c5d0"
      },
      "execution_count": 16,
      "outputs": [
        {
          "output_type": "stream",
          "name": "stdout",
          "text": [
            "Enter your grade: 60\n",
            "keep it up\n"
          ]
        }
      ]
    },
    {
      "cell_type": "code",
      "source": [
        "Lapar = input(\"Apakah zaki lapar? \")\n",
        "if(\"lapar == ya\"):\n",
        "   print(\"Zaki makan\")\n",
        "else:\n",
        "   print(\"Zaki tidak makan\")"
      ],
      "metadata": {
        "colab": {
          "base_uri": "https://localhost:8080/"
        },
        "id": "GQx59vNv9HIU",
        "outputId": "c03bf4ae-62d7-4214-96d2-72aaf23e90d2"
      },
      "execution_count": 17,
      "outputs": [
        {
          "output_type": "stream",
          "name": "stdout",
          "text": [
            "Apakah zaki lapar? ya\n",
            "Zaki makan\n"
          ]
        }
      ]
    },
    {
      "cell_type": "code",
      "source": [
        "#Contoh penggunaan kondisi elif\n",
        "\n",
        "hari_ini = input(\"Masukkan hari(gunakan huruf kecil): \")\n",
        "if(hari_ini == \"senin\"):\n",
        "   print(\"Saya akan kuliah\")\n",
        "elif(hari_ini == \"selasa\"):\n",
        "   print(\"Saya akan kuliah\")\n",
        "elif(hari_ini == \"rabu\"):\n",
        "   print(\"Saya akan kuliah\")\n",
        "elif(hari_ini == \"kamis\"):\n",
        "   print(\"Saya akan kuliah\")\n",
        "elif(hari_ini == \"jumat\"):\n",
        "   print(\"Saya akan kuliah\")\n",
        "elif(hari_ini == \"sabtu\"):\n",
        "   print(\"Saya akan kuliah\")\n",
        "elif(hari_ini == \"minggu\"):\n",
        "   print(\"Saya akan libur\")"
      ],
      "metadata": {
        "colab": {
          "base_uri": "https://localhost:8080/"
        },
        "id": "NO5IMEkK9e0M",
        "outputId": "be0d2a24-22f5-4b8f-ec53-007398cddd61"
      },
      "execution_count": 18,
      "outputs": [
        {
          "output_type": "stream",
          "name": "stdout",
          "text": [
            "Masukkan hari(gunakan huruf kecil): senin\n",
            "Saya akan kuliah\n"
          ]
        }
      ]
    },
    {
      "cell_type": "code",
      "source": [
        "str_input = input('Enter your grade: ')\n",
        "grade = int(str_input)\n",
        "\n",
        "if grade == 100:\n",
        "   print(\"perfect\")\n",
        "elif grade >= 85:\n",
        "   print(\"awesome\")\n",
        "elif grade >= 65:\n",
        "   print(\"passed the exam\")\n",
        "else:\n",
        "   print(\"below the passing grade\")"
      ],
      "metadata": {
        "colab": {
          "base_uri": "https://localhost:8080/"
        },
        "id": "v9IZ53wl-hu0",
        "outputId": "6d1072ff-8658-4195-da1f-5bee0075e7b0"
      },
      "execution_count": 19,
      "outputs": [
        {
          "output_type": "stream",
          "name": "stdout",
          "text": [
            "Enter your grade: 50\n",
            "below the passing grade\n"
          ]
        }
      ]
    },
    {
      "cell_type": "code",
      "source": [
        "str_input = input('Enter your grade: ')\n",
        "grade = int(str_input)\n",
        "\n",
        "if grade == 100:\n",
        "   print(\"perfect\")\n",
        "\n",
        "elif grade >= 85:\n",
        "   print(\"awesome\")\n",
        "\n",
        "elif grade >= 65:\n",
        "   print(\"passed the exam\")\n",
        "\n",
        "   if grade <= 70:\n",
        "      print(\"but you need to improve it!\")\n",
        "   else:\n",
        "      print(\"with ok grade\")\n",
        "\n",
        "else:\n",
        "   print(\"below the passing grade\")"
      ],
      "metadata": {
        "colab": {
          "base_uri": "https://localhost:8080/"
        },
        "id": "5vCL3v-3-4cE",
        "outputId": "5eeef468-74ea-4301-ec47-6a5397d4f08c"
      },
      "execution_count": 29,
      "outputs": [
        {
          "output_type": "stream",
          "name": "stdout",
          "text": [
            "Enter your grade: 50\n",
            "below the passing grade\n"
          ]
        }
      ]
    },
    {
      "cell_type": "code",
      "source": [
        "grade = int(input('Enter your current grade: '))\n",
        "prev_grade = int(input('Enter your previous grade: '))\n",
        "\n",
        "if grade >= 90 and prev_grade >= 65:\n",
        "    print(\"awesome\")\n",
        "if grade >= 90 and prev_grade < 65:\n",
        "    print(\"awesome. you definitely working hard, right?\")\n",
        "elif grade >= 65:\n",
        "    print(\"passed the exam\")\n",
        "else:\n",
        "    print(\"below the passing grade\")\n",
        "\n",
        "if (grade >= 65 and not prev_grade >= 65) or (not grade >= 65 and\n",
        "prev_grade >= 65):\n",
        "    print(\"at least you passed one exam. good job!\")"
      ],
      "metadata": {
        "colab": {
          "base_uri": "https://localhost:8080/"
        },
        "id": "QYxp2BCdATZV",
        "outputId": "5f26a700-c917-4b57-e0cc-cb45fde599a9"
      },
      "execution_count": 32,
      "outputs": [
        {
          "output_type": "stream",
          "name": "stdout",
          "text": [
            "Enter your current grade: 40\n",
            "Enter your previous grade: 59\n",
            "below the passing grade\n"
          ]
        }
      ]
    },
    {
      "cell_type": "code",
      "source": [
        "umur = 20\n",
        "\n",
        "status = 'Dewasa' if umur >= 18 else 'Anak-anak'\n",
        "\n",
        "print(status)"
      ],
      "metadata": {
        "colab": {
          "base_uri": "https://localhost:8080/"
        },
        "id": "DtMwJYKREyKl",
        "outputId": "555f2646-1c9e-4846-8cdc-906c00f0493d"
      },
      "execution_count": 34,
      "outputs": [
        {
          "output_type": "stream",
          "name": "stdout",
          "text": [
            "Dewasa\n"
          ]
        }
      ]
    },
    {
      "cell_type": "code",
      "source": [
        "#soal 1\n",
        "bil = 90\n",
        "if(bil % 3 == 0):\n",
        "  print(\"bilangan tersebut habis dibagi 3\")\n",
        "\n",
        "else:\n",
        "  print(\"bilangan tersebut tidak habis dibagi 3\")"
      ],
      "metadata": {
        "colab": {
          "base_uri": "https://localhost:8080/"
        },
        "id": "d5Po0QqdJvhm",
        "outputId": "8b1e3894-522d-43d8-c973-1ca19a729994"
      },
      "execution_count": 41,
      "outputs": [
        {
          "output_type": "stream",
          "name": "stdout",
          "text": [
            "bilangan tersebut habis dibagi 3\n"
          ]
        }
      ]
    },
    {
      "cell_type": "code",
      "source": [
        "#soal 2\n",
        "nama = input(\" masukan nama anda:\")\n",
        "jenis_kelamin = input(\"jenis kelamin :\")\n",
        "\n",
        "if(\"jenis_kelamin==wanita\"):\n",
        "  print(\"halo sis, nama\")\n",
        "else:\n",
        "  print(\"halo bro, nama\")"
      ],
      "metadata": {
        "colab": {
          "base_uri": "https://localhost:8080/"
        },
        "id": "5ejGJ0FrKz3F",
        "outputId": "b0fceade-2351-438b-9089-bc495ac04403"
      },
      "execution_count": 53,
      "outputs": [
        {
          "output_type": "stream",
          "name": "stdout",
          "text": [
            " masukan nama anda:helga\n",
            "jenis kelamin :wanita\n",
            "halo sis, nama\n"
          ]
        }
      ]
    },
    {
      "cell_type": "code",
      "source": [
        "#soal 3\n",
        "grade = int(input(\"masukan nilai anda saat ini :\"))\n",
        "prev_grade = int(input(\"masukan nilai anda sebelumnya :\"))\n",
        "\n",
        "if grade >= 100 and prev_grade >= 70:\n",
        "  print(\"sangat baik\")\n",
        "if grade >= 90 and prev_grade < 70:\n",
        "  print(\"cukup baik\")\n",
        "elif grade >= 70:\n",
        "  print(\"cukup\")\n",
        "else:\n",
        "  print(\"dibawah rata rata\")\n",
        "\n",
        "if (grade >= 70 and not prev_grade >= 70) or (not grade >= 70 and\n",
        "prev_grade >= 70):\n",
        "  print(\"bagus, kamu lulus satu ujian kerja bagus!\")"
      ],
      "metadata": {
        "colab": {
          "base_uri": "https://localhost:8080/"
        },
        "id": "y24_vBaUPGWk",
        "outputId": "1bf557a1-6dfc-415d-f9db-1d1ad7863a81"
      },
      "execution_count": 54,
      "outputs": [
        {
          "output_type": "stream",
          "name": "stdout",
          "text": [
            "masukan nilai anda saat ini :75\n",
            "masukan nilai anda sebelumnya :80\n",
            "cukup\n"
          ]
        }
      ]
    }
  ]
}